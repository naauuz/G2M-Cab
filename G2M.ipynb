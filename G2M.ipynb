{
 "cells": [
  {
   "cell_type": "markdown",
   "metadata": {},
   "source": [
    "# Import libraries"
   ]
  },
  {
   "cell_type": "code",
   "execution_count": 1,
   "metadata": {},
   "outputs": [],
   "source": [
    "import pandas as pd\n",
    "import numpy as np\n",
    "import seaborn as sns\n",
    "from scipy.stats import ttest_1samp\n",
    "import matplotlib.pyplot as plt\n",
    "%matplotlib inline\n",
    "\n",
    "import warnings\n",
    "warnings.filterwarnings(\"ignore\")"
   ]
  },
  {
   "cell_type": "markdown",
   "metadata": {},
   "source": [
    "# Read datasets"
   ]
  },
  {
   "cell_type": "code",
   "execution_count": 2,
   "metadata": {},
   "outputs": [],
   "source": [
    "Cab = pd.read_csv(\"Cab_Data.csv\")\n",
    "Customer = pd.read_csv(\"Customer_ID.csv\")\n",
    "Transaction = pd.read_csv(\"Transaction_ID.csv\")\n",
    "City = pd.read_csv(\"City.csv\")"
   ]
  },
  {
   "cell_type": "markdown",
   "metadata": {},
   "source": [
    "# Merge dataset based on a specific column"
   ]
  },
  {
   "cell_type": "code",
   "execution_count": 3,
   "metadata": {},
   "outputs": [
    {
     "data": {
      "text/html": [
       "<div>\n",
       "<style scoped>\n",
       "    .dataframe tbody tr th:only-of-type {\n",
       "        vertical-align: middle;\n",
       "    }\n",
       "\n",
       "    .dataframe tbody tr th {\n",
       "        vertical-align: top;\n",
       "    }\n",
       "\n",
       "    .dataframe thead th {\n",
       "        text-align: right;\n",
       "    }\n",
       "</style>\n",
       "<table border=\"1\" class=\"dataframe\">\n",
       "  <thead>\n",
       "    <tr style=\"text-align: right;\">\n",
       "      <th></th>\n",
       "      <th>Transaction ID</th>\n",
       "      <th>Date of Travel</th>\n",
       "      <th>Company</th>\n",
       "      <th>City</th>\n",
       "      <th>KM Travelled</th>\n",
       "      <th>Price Charged</th>\n",
       "      <th>Cost of Trip</th>\n",
       "      <th>Population</th>\n",
       "      <th>Users</th>\n",
       "    </tr>\n",
       "  </thead>\n",
       "  <tbody>\n",
       "    <tr>\n",
       "      <th>0</th>\n",
       "      <td>10000011</td>\n",
       "      <td>08/01/2016</td>\n",
       "      <td>Pink Cab</td>\n",
       "      <td>ATLANTA GA</td>\n",
       "      <td>30.45</td>\n",
       "      <td>370.95</td>\n",
       "      <td>313.635</td>\n",
       "      <td>814,885</td>\n",
       "      <td>24,701</td>\n",
       "    </tr>\n",
       "    <tr>\n",
       "      <th>1</th>\n",
       "      <td>10000012</td>\n",
       "      <td>06/01/2016</td>\n",
       "      <td>Pink Cab</td>\n",
       "      <td>ATLANTA GA</td>\n",
       "      <td>28.62</td>\n",
       "      <td>358.52</td>\n",
       "      <td>334.854</td>\n",
       "      <td>814,885</td>\n",
       "      <td>24,701</td>\n",
       "    </tr>\n",
       "    <tr>\n",
       "      <th>2</th>\n",
       "      <td>10000013</td>\n",
       "      <td>02/01/2016</td>\n",
       "      <td>Pink Cab</td>\n",
       "      <td>ATLANTA GA</td>\n",
       "      <td>9.04</td>\n",
       "      <td>125.20</td>\n",
       "      <td>97.632</td>\n",
       "      <td>814,885</td>\n",
       "      <td>24,701</td>\n",
       "    </tr>\n",
       "    <tr>\n",
       "      <th>3</th>\n",
       "      <td>10000014</td>\n",
       "      <td>07/01/2016</td>\n",
       "      <td>Pink Cab</td>\n",
       "      <td>ATLANTA GA</td>\n",
       "      <td>33.17</td>\n",
       "      <td>377.40</td>\n",
       "      <td>351.602</td>\n",
       "      <td>814,885</td>\n",
       "      <td>24,701</td>\n",
       "    </tr>\n",
       "    <tr>\n",
       "      <th>4</th>\n",
       "      <td>10000015</td>\n",
       "      <td>03/01/2016</td>\n",
       "      <td>Pink Cab</td>\n",
       "      <td>ATLANTA GA</td>\n",
       "      <td>8.73</td>\n",
       "      <td>114.62</td>\n",
       "      <td>97.776</td>\n",
       "      <td>814,885</td>\n",
       "      <td>24,701</td>\n",
       "    </tr>\n",
       "  </tbody>\n",
       "</table>\n",
       "</div>"
      ],
      "text/plain": [
       "   Transaction ID Date of Travel   Company        City  KM Travelled  \\\n",
       "0        10000011     08/01/2016  Pink Cab  ATLANTA GA         30.45   \n",
       "1        10000012     06/01/2016  Pink Cab  ATLANTA GA         28.62   \n",
       "2        10000013     02/01/2016  Pink Cab  ATLANTA GA          9.04   \n",
       "3        10000014     07/01/2016  Pink Cab  ATLANTA GA         33.17   \n",
       "4        10000015     03/01/2016  Pink Cab  ATLANTA GA          8.73   \n",
       "\n",
       "   Price Charged  Cost of Trip Population     Users  \n",
       "0         370.95       313.635   814,885    24,701   \n",
       "1         358.52       334.854   814,885    24,701   \n",
       "2         125.20        97.632   814,885    24,701   \n",
       "3         377.40       351.602   814,885    24,701   \n",
       "4         114.62        97.776   814,885    24,701   "
      ]
     },
     "execution_count": 3,
     "metadata": {},
     "output_type": "execute_result"
    }
   ],
   "source": [
    "data1 = pd.merge(Cab, City, on=\"City\")\n",
    "data1.head()"
   ]
  },
  {
   "cell_type": "code",
   "execution_count": 4,
   "metadata": {},
   "outputs": [
    {
     "data": {
      "text/html": [
       "<div>\n",
       "<style scoped>\n",
       "    .dataframe tbody tr th:only-of-type {\n",
       "        vertical-align: middle;\n",
       "    }\n",
       "\n",
       "    .dataframe tbody tr th {\n",
       "        vertical-align: top;\n",
       "    }\n",
       "\n",
       "    .dataframe thead th {\n",
       "        text-align: right;\n",
       "    }\n",
       "</style>\n",
       "<table border=\"1\" class=\"dataframe\">\n",
       "  <thead>\n",
       "    <tr style=\"text-align: right;\">\n",
       "      <th></th>\n",
       "      <th>Transaction ID</th>\n",
       "      <th>Customer ID</th>\n",
       "      <th>Payment_Mode</th>\n",
       "      <th>Gender</th>\n",
       "      <th>Age</th>\n",
       "      <th>Income (USD/Month)</th>\n",
       "    </tr>\n",
       "  </thead>\n",
       "  <tbody>\n",
       "    <tr>\n",
       "      <th>0</th>\n",
       "      <td>10000011</td>\n",
       "      <td>29290</td>\n",
       "      <td>Card</td>\n",
       "      <td>Male</td>\n",
       "      <td>28</td>\n",
       "      <td>10813</td>\n",
       "    </tr>\n",
       "    <tr>\n",
       "      <th>1</th>\n",
       "      <td>10351127</td>\n",
       "      <td>29290</td>\n",
       "      <td>Cash</td>\n",
       "      <td>Male</td>\n",
       "      <td>28</td>\n",
       "      <td>10813</td>\n",
       "    </tr>\n",
       "    <tr>\n",
       "      <th>2</th>\n",
       "      <td>10412921</td>\n",
       "      <td>29290</td>\n",
       "      <td>Card</td>\n",
       "      <td>Male</td>\n",
       "      <td>28</td>\n",
       "      <td>10813</td>\n",
       "    </tr>\n",
       "    <tr>\n",
       "      <th>3</th>\n",
       "      <td>10000012</td>\n",
       "      <td>27703</td>\n",
       "      <td>Card</td>\n",
       "      <td>Male</td>\n",
       "      <td>27</td>\n",
       "      <td>9237</td>\n",
       "    </tr>\n",
       "    <tr>\n",
       "      <th>4</th>\n",
       "      <td>10320494</td>\n",
       "      <td>27703</td>\n",
       "      <td>Card</td>\n",
       "      <td>Male</td>\n",
       "      <td>27</td>\n",
       "      <td>9237</td>\n",
       "    </tr>\n",
       "  </tbody>\n",
       "</table>\n",
       "</div>"
      ],
      "text/plain": [
       "   Transaction ID  Customer ID Payment_Mode Gender  Age  Income (USD/Month)\n",
       "0        10000011        29290         Card   Male   28               10813\n",
       "1        10351127        29290         Cash   Male   28               10813\n",
       "2        10412921        29290         Card   Male   28               10813\n",
       "3        10000012        27703         Card   Male   27                9237\n",
       "4        10320494        27703         Card   Male   27                9237"
      ]
     },
     "execution_count": 4,
     "metadata": {},
     "output_type": "execute_result"
    }
   ],
   "source": [
    "data2 = pd.merge(Transaction, Customer, on=\"Customer ID\")\n",
    "data2.head()"
   ]
  },
  {
   "cell_type": "code",
   "execution_count": 5,
   "metadata": {},
   "outputs": [
    {
     "data": {
      "text/html": [
       "<div>\n",
       "<style scoped>\n",
       "    .dataframe tbody tr th:only-of-type {\n",
       "        vertical-align: middle;\n",
       "    }\n",
       "\n",
       "    .dataframe tbody tr th {\n",
       "        vertical-align: top;\n",
       "    }\n",
       "\n",
       "    .dataframe thead th {\n",
       "        text-align: right;\n",
       "    }\n",
       "</style>\n",
       "<table border=\"1\" class=\"dataframe\">\n",
       "  <thead>\n",
       "    <tr style=\"text-align: right;\">\n",
       "      <th></th>\n",
       "      <th>Transaction ID</th>\n",
       "      <th>Date of Travel</th>\n",
       "      <th>Company</th>\n",
       "      <th>City</th>\n",
       "      <th>KM Travelled</th>\n",
       "      <th>Price Charged</th>\n",
       "      <th>Cost of Trip</th>\n",
       "      <th>Population</th>\n",
       "      <th>Users</th>\n",
       "      <th>Customer ID</th>\n",
       "      <th>Payment_Mode</th>\n",
       "      <th>Gender</th>\n",
       "      <th>Age</th>\n",
       "      <th>Income (USD/Month)</th>\n",
       "    </tr>\n",
       "  </thead>\n",
       "  <tbody>\n",
       "    <tr>\n",
       "      <th>0</th>\n",
       "      <td>10000011</td>\n",
       "      <td>08/01/2016</td>\n",
       "      <td>Pink Cab</td>\n",
       "      <td>ATLANTA GA</td>\n",
       "      <td>30.45</td>\n",
       "      <td>370.95</td>\n",
       "      <td>313.635</td>\n",
       "      <td>814,885</td>\n",
       "      <td>24,701</td>\n",
       "      <td>29290</td>\n",
       "      <td>Card</td>\n",
       "      <td>Male</td>\n",
       "      <td>28</td>\n",
       "      <td>10813</td>\n",
       "    </tr>\n",
       "    <tr>\n",
       "      <th>1</th>\n",
       "      <td>10000012</td>\n",
       "      <td>06/01/2016</td>\n",
       "      <td>Pink Cab</td>\n",
       "      <td>ATLANTA GA</td>\n",
       "      <td>28.62</td>\n",
       "      <td>358.52</td>\n",
       "      <td>334.854</td>\n",
       "      <td>814,885</td>\n",
       "      <td>24,701</td>\n",
       "      <td>27703</td>\n",
       "      <td>Card</td>\n",
       "      <td>Male</td>\n",
       "      <td>27</td>\n",
       "      <td>9237</td>\n",
       "    </tr>\n",
       "    <tr>\n",
       "      <th>2</th>\n",
       "      <td>10000013</td>\n",
       "      <td>02/01/2016</td>\n",
       "      <td>Pink Cab</td>\n",
       "      <td>ATLANTA GA</td>\n",
       "      <td>9.04</td>\n",
       "      <td>125.20</td>\n",
       "      <td>97.632</td>\n",
       "      <td>814,885</td>\n",
       "      <td>24,701</td>\n",
       "      <td>28712</td>\n",
       "      <td>Cash</td>\n",
       "      <td>Male</td>\n",
       "      <td>53</td>\n",
       "      <td>11242</td>\n",
       "    </tr>\n",
       "    <tr>\n",
       "      <th>3</th>\n",
       "      <td>10000014</td>\n",
       "      <td>07/01/2016</td>\n",
       "      <td>Pink Cab</td>\n",
       "      <td>ATLANTA GA</td>\n",
       "      <td>33.17</td>\n",
       "      <td>377.40</td>\n",
       "      <td>351.602</td>\n",
       "      <td>814,885</td>\n",
       "      <td>24,701</td>\n",
       "      <td>28020</td>\n",
       "      <td>Cash</td>\n",
       "      <td>Male</td>\n",
       "      <td>23</td>\n",
       "      <td>23327</td>\n",
       "    </tr>\n",
       "    <tr>\n",
       "      <th>4</th>\n",
       "      <td>10000015</td>\n",
       "      <td>03/01/2016</td>\n",
       "      <td>Pink Cab</td>\n",
       "      <td>ATLANTA GA</td>\n",
       "      <td>8.73</td>\n",
       "      <td>114.62</td>\n",
       "      <td>97.776</td>\n",
       "      <td>814,885</td>\n",
       "      <td>24,701</td>\n",
       "      <td>27182</td>\n",
       "      <td>Card</td>\n",
       "      <td>Male</td>\n",
       "      <td>33</td>\n",
       "      <td>8536</td>\n",
       "    </tr>\n",
       "  </tbody>\n",
       "</table>\n",
       "</div>"
      ],
      "text/plain": [
       "   Transaction ID Date of Travel   Company        City  KM Travelled  \\\n",
       "0        10000011     08/01/2016  Pink Cab  ATLANTA GA         30.45   \n",
       "1        10000012     06/01/2016  Pink Cab  ATLANTA GA         28.62   \n",
       "2        10000013     02/01/2016  Pink Cab  ATLANTA GA          9.04   \n",
       "3        10000014     07/01/2016  Pink Cab  ATLANTA GA         33.17   \n",
       "4        10000015     03/01/2016  Pink Cab  ATLANTA GA          8.73   \n",
       "\n",
       "   Price Charged  Cost of Trip Population     Users  Customer ID Payment_Mode  \\\n",
       "0         370.95       313.635   814,885    24,701         29290         Card   \n",
       "1         358.52       334.854   814,885    24,701         27703         Card   \n",
       "2         125.20        97.632   814,885    24,701         28712         Cash   \n",
       "3         377.40       351.602   814,885    24,701         28020         Cash   \n",
       "4         114.62        97.776   814,885    24,701         27182         Card   \n",
       "\n",
       "  Gender  Age  Income (USD/Month)  \n",
       "0   Male   28               10813  \n",
       "1   Male   27                9237  \n",
       "2   Male   53               11242  \n",
       "3   Male   23               23327  \n",
       "4   Male   33                8536  "
      ]
     },
     "execution_count": 5,
     "metadata": {},
     "output_type": "execute_result"
    }
   ],
   "source": [
    "final_df = pd.merge(data1, data2, on=\"Transaction ID\")\n",
    "final_df.head()"
   ]
  },
  {
   "cell_type": "markdown",
   "metadata": {},
   "source": [
    "# Check data types"
   ]
  },
  {
   "cell_type": "code",
   "execution_count": 6,
   "metadata": {},
   "outputs": [
    {
     "data": {
      "text/plain": [
       "Transaction ID          int64\n",
       "Date of Travel         object\n",
       "Company                object\n",
       "City                   object\n",
       "KM Travelled          float64\n",
       "Price Charged         float64\n",
       "Cost of Trip          float64\n",
       "Population             object\n",
       "Users                  object\n",
       "Customer ID             int64\n",
       "Payment_Mode           object\n",
       "Gender                 object\n",
       "Age                     int64\n",
       "Income (USD/Month)      int64\n",
       "dtype: object"
      ]
     },
     "execution_count": 6,
     "metadata": {},
     "output_type": "execute_result"
    }
   ],
   "source": [
    "final_df.dtypes"
   ]
  },
  {
   "cell_type": "markdown",
   "metadata": {},
   "source": [
    "- \"Date of Travel\" is object so we should convert it to datetime to analyze"
   ]
  },
  {
   "cell_type": "code",
   "execution_count": 7,
   "metadata": {},
   "outputs": [],
   "source": [
    "final_df['Date of Travel'] = pd.to_datetime(final_df['Date of Travel'])"
   ]
  },
  {
   "cell_type": "markdown",
   "metadata": {},
   "source": [
    "## Now separate date"
   ]
  },
  {
   "cell_type": "code",
   "execution_count": 8,
   "metadata": {},
   "outputs": [
    {
     "data": {
      "text/html": [
       "<div>\n",
       "<style scoped>\n",
       "    .dataframe tbody tr th:only-of-type {\n",
       "        vertical-align: middle;\n",
       "    }\n",
       "\n",
       "    .dataframe tbody tr th {\n",
       "        vertical-align: top;\n",
       "    }\n",
       "\n",
       "    .dataframe thead th {\n",
       "        text-align: right;\n",
       "    }\n",
       "</style>\n",
       "<table border=\"1\" class=\"dataframe\">\n",
       "  <thead>\n",
       "    <tr style=\"text-align: right;\">\n",
       "      <th></th>\n",
       "      <th>Transaction ID</th>\n",
       "      <th>Date of Travel</th>\n",
       "      <th>Company</th>\n",
       "      <th>City</th>\n",
       "      <th>KM Travelled</th>\n",
       "      <th>Price Charged</th>\n",
       "      <th>Cost of Trip</th>\n",
       "      <th>Population</th>\n",
       "      <th>Users</th>\n",
       "      <th>Customer ID</th>\n",
       "      <th>Payment_Mode</th>\n",
       "      <th>Gender</th>\n",
       "      <th>Age</th>\n",
       "      <th>Income (USD/Month)</th>\n",
       "      <th>Day</th>\n",
       "      <th>Month</th>\n",
       "      <th>Year</th>\n",
       "    </tr>\n",
       "  </thead>\n",
       "  <tbody>\n",
       "    <tr>\n",
       "      <th>0</th>\n",
       "      <td>10000011</td>\n",
       "      <td>2016-08-01</td>\n",
       "      <td>Pink Cab</td>\n",
       "      <td>ATLANTA GA</td>\n",
       "      <td>30.45</td>\n",
       "      <td>370.95</td>\n",
       "      <td>313.635</td>\n",
       "      <td>814,885</td>\n",
       "      <td>24,701</td>\n",
       "      <td>29290</td>\n",
       "      <td>Card</td>\n",
       "      <td>Male</td>\n",
       "      <td>28</td>\n",
       "      <td>10813</td>\n",
       "      <td>1</td>\n",
       "      <td>8</td>\n",
       "      <td>2016</td>\n",
       "    </tr>\n",
       "    <tr>\n",
       "      <th>1</th>\n",
       "      <td>10000012</td>\n",
       "      <td>2016-06-01</td>\n",
       "      <td>Pink Cab</td>\n",
       "      <td>ATLANTA GA</td>\n",
       "      <td>28.62</td>\n",
       "      <td>358.52</td>\n",
       "      <td>334.854</td>\n",
       "      <td>814,885</td>\n",
       "      <td>24,701</td>\n",
       "      <td>27703</td>\n",
       "      <td>Card</td>\n",
       "      <td>Male</td>\n",
       "      <td>27</td>\n",
       "      <td>9237</td>\n",
       "      <td>1</td>\n",
       "      <td>6</td>\n",
       "      <td>2016</td>\n",
       "    </tr>\n",
       "    <tr>\n",
       "      <th>2</th>\n",
       "      <td>10000013</td>\n",
       "      <td>2016-02-01</td>\n",
       "      <td>Pink Cab</td>\n",
       "      <td>ATLANTA GA</td>\n",
       "      <td>9.04</td>\n",
       "      <td>125.20</td>\n",
       "      <td>97.632</td>\n",
       "      <td>814,885</td>\n",
       "      <td>24,701</td>\n",
       "      <td>28712</td>\n",
       "      <td>Cash</td>\n",
       "      <td>Male</td>\n",
       "      <td>53</td>\n",
       "      <td>11242</td>\n",
       "      <td>1</td>\n",
       "      <td>2</td>\n",
       "      <td>2016</td>\n",
       "    </tr>\n",
       "    <tr>\n",
       "      <th>3</th>\n",
       "      <td>10000014</td>\n",
       "      <td>2016-07-01</td>\n",
       "      <td>Pink Cab</td>\n",
       "      <td>ATLANTA GA</td>\n",
       "      <td>33.17</td>\n",
       "      <td>377.40</td>\n",
       "      <td>351.602</td>\n",
       "      <td>814,885</td>\n",
       "      <td>24,701</td>\n",
       "      <td>28020</td>\n",
       "      <td>Cash</td>\n",
       "      <td>Male</td>\n",
       "      <td>23</td>\n",
       "      <td>23327</td>\n",
       "      <td>1</td>\n",
       "      <td>7</td>\n",
       "      <td>2016</td>\n",
       "    </tr>\n",
       "    <tr>\n",
       "      <th>4</th>\n",
       "      <td>10000015</td>\n",
       "      <td>2016-03-01</td>\n",
       "      <td>Pink Cab</td>\n",
       "      <td>ATLANTA GA</td>\n",
       "      <td>8.73</td>\n",
       "      <td>114.62</td>\n",
       "      <td>97.776</td>\n",
       "      <td>814,885</td>\n",
       "      <td>24,701</td>\n",
       "      <td>27182</td>\n",
       "      <td>Card</td>\n",
       "      <td>Male</td>\n",
       "      <td>33</td>\n",
       "      <td>8536</td>\n",
       "      <td>1</td>\n",
       "      <td>3</td>\n",
       "      <td>2016</td>\n",
       "    </tr>\n",
       "  </tbody>\n",
       "</table>\n",
       "</div>"
      ],
      "text/plain": [
       "   Transaction ID Date of Travel   Company        City  KM Travelled  \\\n",
       "0        10000011     2016-08-01  Pink Cab  ATLANTA GA         30.45   \n",
       "1        10000012     2016-06-01  Pink Cab  ATLANTA GA         28.62   \n",
       "2        10000013     2016-02-01  Pink Cab  ATLANTA GA          9.04   \n",
       "3        10000014     2016-07-01  Pink Cab  ATLANTA GA         33.17   \n",
       "4        10000015     2016-03-01  Pink Cab  ATLANTA GA          8.73   \n",
       "\n",
       "   Price Charged  Cost of Trip Population     Users  Customer ID Payment_Mode  \\\n",
       "0         370.95       313.635   814,885    24,701         29290         Card   \n",
       "1         358.52       334.854   814,885    24,701         27703         Card   \n",
       "2         125.20        97.632   814,885    24,701         28712         Cash   \n",
       "3         377.40       351.602   814,885    24,701         28020         Cash   \n",
       "4         114.62        97.776   814,885    24,701         27182         Card   \n",
       "\n",
       "  Gender  Age  Income (USD/Month)  Day  Month  Year  \n",
       "0   Male   28               10813    1      8  2016  \n",
       "1   Male   27                9237    1      6  2016  \n",
       "2   Male   53               11242    1      2  2016  \n",
       "3   Male   23               23327    1      7  2016  \n",
       "4   Male   33                8536    1      3  2016  "
      ]
     },
     "execution_count": 8,
     "metadata": {},
     "output_type": "execute_result"
    }
   ],
   "source": [
    "final_df['Day'] = final_df['Date of Travel'].dt.day\n",
    "final_df['Month'] = final_df['Date of Travel'].dt.month\n",
    "final_df['Year'] = final_df['Date of Travel'].dt.year\n",
    "final_df.head()"
   ]
  },
  {
   "cell_type": "markdown",
   "metadata": {},
   "source": [
    "## Create new column"
   ]
  },
  {
   "cell_type": "code",
   "execution_count": 9,
   "metadata": {},
   "outputs": [],
   "source": [
    "final_df['Profit'] = final_df['Price Charged'] - final_df['Cost of Trip']"
   ]
  },
  {
   "cell_type": "code",
   "execution_count": 10,
   "metadata": {},
   "outputs": [],
   "source": [
    "final_df.sort_values(by='Date of Travel', inplace=True)\n",
    "final_df.set_index('Date of Travel', inplace=True)"
   ]
  },
  {
   "cell_type": "markdown",
   "metadata": {},
   "source": [
    "# EDA"
   ]
  },
  {
   "cell_type": "code",
   "execution_count": 11,
   "metadata": {},
   "outputs": [
    {
     "data": {
      "text/html": [
       "<div>\n",
       "<style scoped>\n",
       "    .dataframe tbody tr th:only-of-type {\n",
       "        vertical-align: middle;\n",
       "    }\n",
       "\n",
       "    .dataframe tbody tr th {\n",
       "        vertical-align: top;\n",
       "    }\n",
       "\n",
       "    .dataframe thead th {\n",
       "        text-align: right;\n",
       "    }\n",
       "</style>\n",
       "<table border=\"1\" class=\"dataframe\">\n",
       "  <thead>\n",
       "    <tr style=\"text-align: right;\">\n",
       "      <th></th>\n",
       "      <th>Transaction ID</th>\n",
       "      <th>Company</th>\n",
       "      <th>City</th>\n",
       "      <th>KM Travelled</th>\n",
       "      <th>Price Charged</th>\n",
       "      <th>Cost of Trip</th>\n",
       "      <th>Population</th>\n",
       "      <th>Users</th>\n",
       "      <th>Customer ID</th>\n",
       "      <th>Payment_Mode</th>\n",
       "      <th>Gender</th>\n",
       "      <th>Age</th>\n",
       "      <th>Income (USD/Month)</th>\n",
       "      <th>Day</th>\n",
       "      <th>Month</th>\n",
       "      <th>Year</th>\n",
       "      <th>Profit</th>\n",
       "    </tr>\n",
       "    <tr>\n",
       "      <th>Date of Travel</th>\n",
       "      <th></th>\n",
       "      <th></th>\n",
       "      <th></th>\n",
       "      <th></th>\n",
       "      <th></th>\n",
       "      <th></th>\n",
       "      <th></th>\n",
       "      <th></th>\n",
       "      <th></th>\n",
       "      <th></th>\n",
       "      <th></th>\n",
       "      <th></th>\n",
       "      <th></th>\n",
       "      <th></th>\n",
       "      <th></th>\n",
       "      <th></th>\n",
       "      <th></th>\n",
       "    </tr>\n",
       "  </thead>\n",
       "  <tbody>\n",
       "    <tr>\n",
       "      <th>2016-01-02</th>\n",
       "      <td>10004899</td>\n",
       "      <td>Yellow Cab</td>\n",
       "      <td>LOS ANGELES CA</td>\n",
       "      <td>25.53</td>\n",
       "      <td>402.89</td>\n",
       "      <td>327.8052</td>\n",
       "      <td>1,595,037</td>\n",
       "      <td>144,132</td>\n",
       "      <td>7219</td>\n",
       "      <td>Cash</td>\n",
       "      <td>Male</td>\n",
       "      <td>18</td>\n",
       "      <td>13980</td>\n",
       "      <td>2</td>\n",
       "      <td>1</td>\n",
       "      <td>2016</td>\n",
       "      <td>75.0848</td>\n",
       "    </tr>\n",
       "    <tr>\n",
       "      <th>2016-01-02</th>\n",
       "      <td>10005402</td>\n",
       "      <td>Yellow Cab</td>\n",
       "      <td>WASHINGTON DC</td>\n",
       "      <td>44.08</td>\n",
       "      <td>694.53</td>\n",
       "      <td>587.1456</td>\n",
       "      <td>418,859</td>\n",
       "      <td>127,001</td>\n",
       "      <td>53869</td>\n",
       "      <td>Card</td>\n",
       "      <td>Female</td>\n",
       "      <td>34</td>\n",
       "      <td>6570</td>\n",
       "      <td>2</td>\n",
       "      <td>1</td>\n",
       "      <td>2016</td>\n",
       "      <td>107.3844</td>\n",
       "    </tr>\n",
       "    <tr>\n",
       "      <th>2016-01-02</th>\n",
       "      <td>10004271</td>\n",
       "      <td>Pink Cab</td>\n",
       "      <td>BOSTON MA</td>\n",
       "      <td>38.61</td>\n",
       "      <td>358.05</td>\n",
       "      <td>405.4050</td>\n",
       "      <td>248,968</td>\n",
       "      <td>80,021</td>\n",
       "      <td>59321</td>\n",
       "      <td>Cash</td>\n",
       "      <td>Male</td>\n",
       "      <td>45</td>\n",
       "      <td>22849</td>\n",
       "      <td>2</td>\n",
       "      <td>1</td>\n",
       "      <td>2016</td>\n",
       "      <td>-47.3550</td>\n",
       "    </tr>\n",
       "    <tr>\n",
       "      <th>2016-01-02</th>\n",
       "      <td>10004399</td>\n",
       "      <td>Pink Cab</td>\n",
       "      <td>SAN DIEGO CA</td>\n",
       "      <td>4.72</td>\n",
       "      <td>50.88</td>\n",
       "      <td>51.9200</td>\n",
       "      <td>959,307</td>\n",
       "      <td>69,995</td>\n",
       "      <td>19497</td>\n",
       "      <td>Card</td>\n",
       "      <td>Male</td>\n",
       "      <td>30</td>\n",
       "      <td>11978</td>\n",
       "      <td>2</td>\n",
       "      <td>1</td>\n",
       "      <td>2016</td>\n",
       "      <td>-1.0400</td>\n",
       "    </tr>\n",
       "    <tr>\n",
       "      <th>2016-01-02</th>\n",
       "      <td>10005419</td>\n",
       "      <td>Yellow Cab</td>\n",
       "      <td>WASHINGTON DC</td>\n",
       "      <td>46.00</td>\n",
       "      <td>765.04</td>\n",
       "      <td>552.0000</td>\n",
       "      <td>418,859</td>\n",
       "      <td>127,001</td>\n",
       "      <td>53389</td>\n",
       "      <td>Cash</td>\n",
       "      <td>Male</td>\n",
       "      <td>26</td>\n",
       "      <td>2702</td>\n",
       "      <td>2</td>\n",
       "      <td>1</td>\n",
       "      <td>2016</td>\n",
       "      <td>213.0400</td>\n",
       "    </tr>\n",
       "    <tr>\n",
       "      <th>...</th>\n",
       "      <td>...</td>\n",
       "      <td>...</td>\n",
       "      <td>...</td>\n",
       "      <td>...</td>\n",
       "      <td>...</td>\n",
       "      <td>...</td>\n",
       "      <td>...</td>\n",
       "      <td>...</td>\n",
       "      <td>...</td>\n",
       "      <td>...</td>\n",
       "      <td>...</td>\n",
       "      <td>...</td>\n",
       "      <td>...</td>\n",
       "      <td>...</td>\n",
       "      <td>...</td>\n",
       "      <td>...</td>\n",
       "      <td>...</td>\n",
       "    </tr>\n",
       "    <tr>\n",
       "      <th>2018-12-31</th>\n",
       "      <td>10435303</td>\n",
       "      <td>Yellow Cab</td>\n",
       "      <td>NEW YORK NY</td>\n",
       "      <td>39.20</td>\n",
       "      <td>1000.88</td>\n",
       "      <td>508.0320</td>\n",
       "      <td>8,405,837</td>\n",
       "      <td>302,149</td>\n",
       "      <td>46</td>\n",
       "      <td>Card</td>\n",
       "      <td>Female</td>\n",
       "      <td>37</td>\n",
       "      <td>19348</td>\n",
       "      <td>31</td>\n",
       "      <td>12</td>\n",
       "      <td>2018</td>\n",
       "      <td>492.8480</td>\n",
       "    </tr>\n",
       "    <tr>\n",
       "      <th>2018-12-31</th>\n",
       "      <td>10435591</td>\n",
       "      <td>Yellow Cab</td>\n",
       "      <td>NEW YORK NY</td>\n",
       "      <td>37.74</td>\n",
       "      <td>918.58</td>\n",
       "      <td>511.7544</td>\n",
       "      <td>8,405,837</td>\n",
       "      <td>302,149</td>\n",
       "      <td>1049</td>\n",
       "      <td>Card</td>\n",
       "      <td>Female</td>\n",
       "      <td>40</td>\n",
       "      <td>23646</td>\n",
       "      <td>31</td>\n",
       "      <td>12</td>\n",
       "      <td>2018</td>\n",
       "      <td>406.8256</td>\n",
       "    </tr>\n",
       "    <tr>\n",
       "      <th>2018-12-31</th>\n",
       "      <td>10434932</td>\n",
       "      <td>Yellow Cab</td>\n",
       "      <td>LOS ANGELES CA</td>\n",
       "      <td>22.88</td>\n",
       "      <td>396.35</td>\n",
       "      <td>315.7440</td>\n",
       "      <td>1,595,037</td>\n",
       "      <td>144,132</td>\n",
       "      <td>6646</td>\n",
       "      <td>Cash</td>\n",
       "      <td>Female</td>\n",
       "      <td>31</td>\n",
       "      <td>7722</td>\n",
       "      <td>31</td>\n",
       "      <td>12</td>\n",
       "      <td>2018</td>\n",
       "      <td>80.6060</td>\n",
       "    </tr>\n",
       "    <tr>\n",
       "      <th>2018-12-31</th>\n",
       "      <td>10437814</td>\n",
       "      <td>Yellow Cab</td>\n",
       "      <td>BOSTON MA</td>\n",
       "      <td>17.10</td>\n",
       "      <td>238.07</td>\n",
       "      <td>240.0840</td>\n",
       "      <td>248,968</td>\n",
       "      <td>80,021</td>\n",
       "      <td>59185</td>\n",
       "      <td>Card</td>\n",
       "      <td>Female</td>\n",
       "      <td>42</td>\n",
       "      <td>11396</td>\n",
       "      <td>31</td>\n",
       "      <td>12</td>\n",
       "      <td>2018</td>\n",
       "      <td>-2.0140</td>\n",
       "    </tr>\n",
       "    <tr>\n",
       "      <th>2018-12-31</th>\n",
       "      <td>10438259</td>\n",
       "      <td>Yellow Cab</td>\n",
       "      <td>DALLAS TX</td>\n",
       "      <td>34.00</td>\n",
       "      <td>635.45</td>\n",
       "      <td>428.4000</td>\n",
       "      <td>942,908</td>\n",
       "      <td>22,157</td>\n",
       "      <td>25004</td>\n",
       "      <td>Cash</td>\n",
       "      <td>Female</td>\n",
       "      <td>40</td>\n",
       "      <td>10758</td>\n",
       "      <td>31</td>\n",
       "      <td>12</td>\n",
       "      <td>2018</td>\n",
       "      <td>207.0500</td>\n",
       "    </tr>\n",
       "  </tbody>\n",
       "</table>\n",
       "<p>359392 rows × 17 columns</p>\n",
       "</div>"
      ],
      "text/plain": [
       "                Transaction ID     Company            City  KM Travelled  \\\n",
       "Date of Travel                                                             \n",
       "2016-01-02            10004899  Yellow Cab  LOS ANGELES CA         25.53   \n",
       "2016-01-02            10005402  Yellow Cab   WASHINGTON DC         44.08   \n",
       "2016-01-02            10004271    Pink Cab       BOSTON MA         38.61   \n",
       "2016-01-02            10004399    Pink Cab    SAN DIEGO CA          4.72   \n",
       "2016-01-02            10005419  Yellow Cab   WASHINGTON DC         46.00   \n",
       "...                        ...         ...             ...           ...   \n",
       "2018-12-31            10435303  Yellow Cab     NEW YORK NY         39.20   \n",
       "2018-12-31            10435591  Yellow Cab     NEW YORK NY         37.74   \n",
       "2018-12-31            10434932  Yellow Cab  LOS ANGELES CA         22.88   \n",
       "2018-12-31            10437814  Yellow Cab       BOSTON MA         17.10   \n",
       "2018-12-31            10438259  Yellow Cab       DALLAS TX         34.00   \n",
       "\n",
       "                Price Charged  Cost of Trip   Population      Users  \\\n",
       "Date of Travel                                                        \n",
       "2016-01-02             402.89      327.8052   1,595,037    144,132    \n",
       "2016-01-02             694.53      587.1456     418,859    127,001    \n",
       "2016-01-02             358.05      405.4050     248,968     80,021    \n",
       "2016-01-02              50.88       51.9200     959,307     69,995    \n",
       "2016-01-02             765.04      552.0000     418,859    127,001    \n",
       "...                       ...           ...          ...        ...   \n",
       "2018-12-31            1000.88      508.0320   8,405,837    302,149    \n",
       "2018-12-31             918.58      511.7544   8,405,837    302,149    \n",
       "2018-12-31             396.35      315.7440   1,595,037    144,132    \n",
       "2018-12-31             238.07      240.0840     248,968     80,021    \n",
       "2018-12-31             635.45      428.4000     942,908     22,157    \n",
       "\n",
       "                Customer ID Payment_Mode  Gender  Age  Income (USD/Month)  \\\n",
       "Date of Travel                                                              \n",
       "2016-01-02             7219         Cash    Male   18               13980   \n",
       "2016-01-02            53869         Card  Female   34                6570   \n",
       "2016-01-02            59321         Cash    Male   45               22849   \n",
       "2016-01-02            19497         Card    Male   30               11978   \n",
       "2016-01-02            53389         Cash    Male   26                2702   \n",
       "...                     ...          ...     ...  ...                 ...   \n",
       "2018-12-31               46         Card  Female   37               19348   \n",
       "2018-12-31             1049         Card  Female   40               23646   \n",
       "2018-12-31             6646         Cash  Female   31                7722   \n",
       "2018-12-31            59185         Card  Female   42               11396   \n",
       "2018-12-31            25004         Cash  Female   40               10758   \n",
       "\n",
       "                Day  Month  Year    Profit  \n",
       "Date of Travel                              \n",
       "2016-01-02        2      1  2016   75.0848  \n",
       "2016-01-02        2      1  2016  107.3844  \n",
       "2016-01-02        2      1  2016  -47.3550  \n",
       "2016-01-02        2      1  2016   -1.0400  \n",
       "2016-01-02        2      1  2016  213.0400  \n",
       "...             ...    ...   ...       ...  \n",
       "2018-12-31       31     12  2018  492.8480  \n",
       "2018-12-31       31     12  2018  406.8256  \n",
       "2018-12-31       31     12  2018   80.6060  \n",
       "2018-12-31       31     12  2018   -2.0140  \n",
       "2018-12-31       31     12  2018  207.0500  \n",
       "\n",
       "[359392 rows x 17 columns]"
      ]
     },
     "execution_count": 11,
     "metadata": {},
     "output_type": "execute_result"
    }
   ],
   "source": [
    "final_df"
   ]
  },
  {
   "cell_type": "code",
   "execution_count": 12,
   "metadata": {},
   "outputs": [
    {
     "data": {
      "text/plain": [
       "(359392, 17)"
      ]
     },
     "execution_count": 12,
     "metadata": {},
     "output_type": "execute_result"
    }
   ],
   "source": [
    "final_df.shape"
   ]
  },
  {
   "cell_type": "markdown",
   "metadata": {},
   "source": [
    "## Statistical of each numerical column"
   ]
  },
  {
   "cell_type": "code",
   "execution_count": 13,
   "metadata": {},
   "outputs": [
    {
     "data": {
      "text/html": [
       "<div>\n",
       "<style scoped>\n",
       "    .dataframe tbody tr th:only-of-type {\n",
       "        vertical-align: middle;\n",
       "    }\n",
       "\n",
       "    .dataframe tbody tr th {\n",
       "        vertical-align: top;\n",
       "    }\n",
       "\n",
       "    .dataframe thead th {\n",
       "        text-align: right;\n",
       "    }\n",
       "</style>\n",
       "<table border=\"1\" class=\"dataframe\">\n",
       "  <thead>\n",
       "    <tr style=\"text-align: right;\">\n",
       "      <th></th>\n",
       "      <th>Transaction ID</th>\n",
       "      <th>KM Travelled</th>\n",
       "      <th>Price Charged</th>\n",
       "      <th>Cost of Trip</th>\n",
       "      <th>Customer ID</th>\n",
       "      <th>Age</th>\n",
       "      <th>Income (USD/Month)</th>\n",
       "      <th>Day</th>\n",
       "      <th>Month</th>\n",
       "      <th>Year</th>\n",
       "      <th>Profit</th>\n",
       "    </tr>\n",
       "  </thead>\n",
       "  <tbody>\n",
       "    <tr>\n",
       "      <th>count</th>\n",
       "      <td>3.593920e+05</td>\n",
       "      <td>359392.000000</td>\n",
       "      <td>359392.000000</td>\n",
       "      <td>359392.000000</td>\n",
       "      <td>359392.000000</td>\n",
       "      <td>359392.000000</td>\n",
       "      <td>359392.000000</td>\n",
       "      <td>359392.000000</td>\n",
       "      <td>359392.000000</td>\n",
       "      <td>359392.000000</td>\n",
       "      <td>359392.000000</td>\n",
       "    </tr>\n",
       "    <tr>\n",
       "      <th>mean</th>\n",
       "      <td>1.022076e+07</td>\n",
       "      <td>22.567254</td>\n",
       "      <td>423.443311</td>\n",
       "      <td>286.190113</td>\n",
       "      <td>19191.652115</td>\n",
       "      <td>35.336705</td>\n",
       "      <td>15048.822937</td>\n",
       "      <td>15.972835</td>\n",
       "      <td>7.156047</td>\n",
       "      <td>2017.045199</td>\n",
       "      <td>137.253198</td>\n",
       "    </tr>\n",
       "    <tr>\n",
       "      <th>std</th>\n",
       "      <td>1.268058e+05</td>\n",
       "      <td>12.233526</td>\n",
       "      <td>274.378911</td>\n",
       "      <td>157.993661</td>\n",
       "      <td>21012.412463</td>\n",
       "      <td>12.594234</td>\n",
       "      <td>7969.409482</td>\n",
       "      <td>8.503010</td>\n",
       "      <td>3.413283</td>\n",
       "      <td>0.800239</td>\n",
       "      <td>160.311840</td>\n",
       "    </tr>\n",
       "    <tr>\n",
       "      <th>min</th>\n",
       "      <td>1.000001e+07</td>\n",
       "      <td>1.900000</td>\n",
       "      <td>15.600000</td>\n",
       "      <td>19.000000</td>\n",
       "      <td>1.000000</td>\n",
       "      <td>18.000000</td>\n",
       "      <td>2000.000000</td>\n",
       "      <td>1.000000</td>\n",
       "      <td>1.000000</td>\n",
       "      <td>2016.000000</td>\n",
       "      <td>-220.060000</td>\n",
       "    </tr>\n",
       "    <tr>\n",
       "      <th>25%</th>\n",
       "      <td>1.011081e+07</td>\n",
       "      <td>12.000000</td>\n",
       "      <td>206.437500</td>\n",
       "      <td>151.200000</td>\n",
       "      <td>2705.000000</td>\n",
       "      <td>25.000000</td>\n",
       "      <td>8424.000000</td>\n",
       "      <td>9.000000</td>\n",
       "      <td>4.000000</td>\n",
       "      <td>2016.000000</td>\n",
       "      <td>28.012000</td>\n",
       "    </tr>\n",
       "    <tr>\n",
       "      <th>50%</th>\n",
       "      <td>1.022104e+07</td>\n",
       "      <td>22.440000</td>\n",
       "      <td>386.360000</td>\n",
       "      <td>282.480000</td>\n",
       "      <td>7459.000000</td>\n",
       "      <td>33.000000</td>\n",
       "      <td>14685.000000</td>\n",
       "      <td>16.000000</td>\n",
       "      <td>8.000000</td>\n",
       "      <td>2017.000000</td>\n",
       "      <td>81.962000</td>\n",
       "    </tr>\n",
       "    <tr>\n",
       "      <th>75%</th>\n",
       "      <td>1.033094e+07</td>\n",
       "      <td>32.960000</td>\n",
       "      <td>583.660000</td>\n",
       "      <td>413.683200</td>\n",
       "      <td>36078.000000</td>\n",
       "      <td>42.000000</td>\n",
       "      <td>21035.000000</td>\n",
       "      <td>23.000000</td>\n",
       "      <td>10.000000</td>\n",
       "      <td>2018.000000</td>\n",
       "      <td>190.030000</td>\n",
       "    </tr>\n",
       "    <tr>\n",
       "      <th>max</th>\n",
       "      <td>1.044011e+07</td>\n",
       "      <td>48.000000</td>\n",
       "      <td>2048.030000</td>\n",
       "      <td>691.200000</td>\n",
       "      <td>60000.000000</td>\n",
       "      <td>65.000000</td>\n",
       "      <td>35000.000000</td>\n",
       "      <td>31.000000</td>\n",
       "      <td>12.000000</td>\n",
       "      <td>2018.000000</td>\n",
       "      <td>1463.966000</td>\n",
       "    </tr>\n",
       "  </tbody>\n",
       "</table>\n",
       "</div>"
      ],
      "text/plain": [
       "       Transaction ID   KM Travelled  Price Charged   Cost of Trip  \\\n",
       "count    3.593920e+05  359392.000000  359392.000000  359392.000000   \n",
       "mean     1.022076e+07      22.567254     423.443311     286.190113   \n",
       "std      1.268058e+05      12.233526     274.378911     157.993661   \n",
       "min      1.000001e+07       1.900000      15.600000      19.000000   \n",
       "25%      1.011081e+07      12.000000     206.437500     151.200000   \n",
       "50%      1.022104e+07      22.440000     386.360000     282.480000   \n",
       "75%      1.033094e+07      32.960000     583.660000     413.683200   \n",
       "max      1.044011e+07      48.000000    2048.030000     691.200000   \n",
       "\n",
       "         Customer ID            Age  Income (USD/Month)            Day  \\\n",
       "count  359392.000000  359392.000000       359392.000000  359392.000000   \n",
       "mean    19191.652115      35.336705        15048.822937      15.972835   \n",
       "std     21012.412463      12.594234         7969.409482       8.503010   \n",
       "min         1.000000      18.000000         2000.000000       1.000000   \n",
       "25%      2705.000000      25.000000         8424.000000       9.000000   \n",
       "50%      7459.000000      33.000000        14685.000000      16.000000   \n",
       "75%     36078.000000      42.000000        21035.000000      23.000000   \n",
       "max     60000.000000      65.000000        35000.000000      31.000000   \n",
       "\n",
       "               Month           Year         Profit  \n",
       "count  359392.000000  359392.000000  359392.000000  \n",
       "mean        7.156047    2017.045199     137.253198  \n",
       "std         3.413283       0.800239     160.311840  \n",
       "min         1.000000    2016.000000    -220.060000  \n",
       "25%         4.000000    2016.000000      28.012000  \n",
       "50%         8.000000    2017.000000      81.962000  \n",
       "75%        10.000000    2018.000000     190.030000  \n",
       "max        12.000000    2018.000000    1463.966000  "
      ]
     },
     "execution_count": 13,
     "metadata": {},
     "output_type": "execute_result"
    }
   ],
   "source": [
    "final_df.describe()"
   ]
  },
  {
   "cell_type": "code",
   "execution_count": 14,
   "metadata": {},
   "outputs": [
    {
     "name": "stdout",
     "output_type": "stream",
     "text": [
      "<class 'pandas.core.frame.DataFrame'>\n",
      "DatetimeIndex: 359392 entries, 2016-01-02 to 2018-12-31\n",
      "Data columns (total 17 columns):\n",
      " #   Column              Non-Null Count   Dtype  \n",
      "---  ------              --------------   -----  \n",
      " 0   Transaction ID      359392 non-null  int64  \n",
      " 1   Company             359392 non-null  object \n",
      " 2   City                359392 non-null  object \n",
      " 3   KM Travelled        359392 non-null  float64\n",
      " 4   Price Charged       359392 non-null  float64\n",
      " 5   Cost of Trip        359392 non-null  float64\n",
      " 6   Population          359392 non-null  object \n",
      " 7   Users               359392 non-null  object \n",
      " 8   Customer ID         359392 non-null  int64  \n",
      " 9   Payment_Mode        359392 non-null  object \n",
      " 10  Gender              359392 non-null  object \n",
      " 11  Age                 359392 non-null  int64  \n",
      " 12  Income (USD/Month)  359392 non-null  int64  \n",
      " 13  Day                 359392 non-null  int64  \n",
      " 14  Month               359392 non-null  int64  \n",
      " 15  Year                359392 non-null  int64  \n",
      " 16  Profit              359392 non-null  float64\n",
      "dtypes: float64(4), int64(7), object(6)\n",
      "memory usage: 49.4+ MB\n"
     ]
    }
   ],
   "source": [
    "final_df.info()"
   ]
  },
  {
   "cell_type": "markdown",
   "metadata": {},
   "source": [
    "## Remove duplicates"
   ]
  },
  {
   "cell_type": "code",
   "execution_count": 15,
   "metadata": {},
   "outputs": [
    {
     "data": {
      "text/plain": [
       "0"
      ]
     },
     "execution_count": 15,
     "metadata": {},
     "output_type": "execute_result"
    }
   ],
   "source": [
    "final_df.drop_duplicates(inplace=True) \n",
    "sum(final_df.duplicated())"
   ]
  },
  {
   "cell_type": "markdown",
   "metadata": {},
   "source": [
    "- The result is zero, which means there are no duplicates"
   ]
  },
  {
   "cell_type": "markdown",
   "metadata": {},
   "source": [
    "## Unique values of each column"
   ]
  },
  {
   "cell_type": "code",
   "execution_count": 16,
   "metadata": {},
   "outputs": [
    {
     "data": {
      "text/plain": [
       "Transaction ID        359392\n",
       "Company                    2\n",
       "City                      19\n",
       "KM Travelled             874\n",
       "Price Charged          99176\n",
       "Cost of Trip           16291\n",
       "Population                19\n",
       "Users                     19\n",
       "Customer ID            46148\n",
       "Payment_Mode               2\n",
       "Gender                     2\n",
       "Age                       48\n",
       "Income (USD/Month)     22725\n",
       "Day                       31\n",
       "Month                     12\n",
       "Year                       3\n",
       "Profit                303907\n",
       "dtype: int64"
      ]
     },
     "execution_count": 16,
     "metadata": {},
     "output_type": "execute_result"
    }
   ],
   "source": [
    "final_df.nunique()"
   ]
  },
  {
   "cell_type": "markdown",
   "metadata": {},
   "source": [
    "## Check null values"
   ]
  },
  {
   "cell_type": "code",
   "execution_count": 17,
   "metadata": {},
   "outputs": [
    {
     "data": {
      "text/plain": [
       "Transaction ID        0\n",
       "Company               0\n",
       "City                  0\n",
       "KM Travelled          0\n",
       "Price Charged         0\n",
       "Cost of Trip          0\n",
       "Population            0\n",
       "Users                 0\n",
       "Customer ID           0\n",
       "Payment_Mode          0\n",
       "Gender                0\n",
       "Age                   0\n",
       "Income (USD/Month)    0\n",
       "Day                   0\n",
       "Month                 0\n",
       "Year                  0\n",
       "Profit                0\n",
       "dtype: int64"
      ]
     },
     "execution_count": 17,
     "metadata": {},
     "output_type": "execute_result"
    }
   ],
   "source": [
    "final_df.isnull().sum()"
   ]
  },
  {
   "cell_type": "markdown",
   "metadata": {},
   "source": [
    "### Checking which cities have the most number of cabs"
   ]
  },
  {
   "cell_type": "code",
   "execution_count": 18,
   "metadata": {},
   "outputs": [
    {
     "data": {
      "text/plain": [
       "NEW YORK NY       99885\n",
       "CHICAGO IL        56625\n",
       "LOS ANGELES CA    48033\n",
       "WASHINGTON DC     43737\n",
       "BOSTON MA         29692\n",
       "SAN DIEGO CA      20488\n",
       "SILICON VALLEY     8519\n",
       "SEATTLE WA         7997\n",
       "ATLANTA GA         7557\n",
       "DALLAS TX          7017\n",
       "MIAMI FL           6454\n",
       "AUSTIN TX          4896\n",
       "ORANGE COUNTY      3982\n",
       "DENVER CO          3825\n",
       "NASHVILLE TN       3010\n",
       "SACRAMENTO CA      2367\n",
       "PHOENIX AZ         2064\n",
       "TUCSON AZ          1931\n",
       "PITTSBURGH PA      1313\n",
       "Name: City, dtype: int64"
      ]
     },
     "execution_count": 18,
     "metadata": {},
     "output_type": "execute_result"
    }
   ],
   "source": [
    "final_df['City'].value_counts()"
   ]
  },
  {
   "cell_type": "markdown",
   "metadata": {},
   "source": [
    "- New York City have the highest number of cabs"
   ]
  },
  {
   "cell_type": "code",
   "execution_count": 19,
   "metadata": {},
   "outputs": [
    {
     "data": {
      "text/plain": [
       "<matplotlib.axes._subplots.AxesSubplot at 0x7fa3dcb924f0>"
      ]
     },
     "execution_count": 19,
     "metadata": {},
     "output_type": "execute_result"
    },
    {
     "data": {
      "image/png": "[encoded data removed]",
      "text/plain": [
       "<Figure size 1008x576 with 1 Axes>"
      ]
     },
     "metadata": {
      "needs_background": "light"
     },
     "output_type": "display_data"
    }
   ],
   "source": [
    "plt.figure(figsize=(14, 8))\n",
    "groupby_City = final_df.groupby('City')\n",
    "groupby_City['Company'].value_counts().sort_values(ascending=True).plot.barh(color = \"blue\")"
   ]
  },
  {
   "cell_type": "markdown",
   "metadata": {},
   "source": [
    "- Yellow Cabs are the most cabs "
   ]
  },
  {
   "cell_type": "code",
   "execution_count": 20,
   "metadata": {},
   "outputs": [
    {
     "data": {
      "text/plain": [
       "City            Company   \n",
       "ATLANTA GA      Yellow Cab     5795\n",
       "                Pink Cab       1762\n",
       "AUSTIN TX       Yellow Cab     3028\n",
       "                Pink Cab       1868\n",
       "BOSTON MA       Yellow Cab    24506\n",
       "                Pink Cab       5186\n",
       "CHICAGO IL      Yellow Cab    47264\n",
       "                Pink Cab       9361\n",
       "DALLAS TX       Yellow Cab     5637\n",
       "                Pink Cab       1380\n",
       "DENVER CO       Yellow Cab     2431\n",
       "                Pink Cab       1394\n",
       "LOS ANGELES CA  Yellow Cab    28168\n",
       "                Pink Cab      19865\n",
       "MIAMI FL        Yellow Cab     4452\n",
       "                Pink Cab       2002\n",
       "NASHVILLE TN    Pink Cab       1841\n",
       "                Yellow Cab     1169\n",
       "NEW YORK NY     Yellow Cab    85918\n",
       "                Pink Cab      13967\n",
       "ORANGE COUNTY   Yellow Cab     2469\n",
       "                Pink Cab       1513\n",
       "PHOENIX AZ      Yellow Cab     1200\n",
       "                Pink Cab        864\n",
       "PITTSBURGH PA   Pink Cab        682\n",
       "                Yellow Cab      631\n",
       "SACRAMENTO CA   Pink Cab       1334\n",
       "                Yellow Cab     1033\n",
       "SAN DIEGO CA    Pink Cab      10672\n",
       "                Yellow Cab     9816\n",
       "SEATTLE WA      Yellow Cab     5265\n",
       "                Pink Cab       2732\n",
       "SILICON VALLEY  Yellow Cab     4722\n",
       "                Pink Cab       3797\n",
       "TUCSON AZ       Yellow Cab     1132\n",
       "                Pink Cab        799\n",
       "WASHINGTON DC   Yellow Cab    40045\n",
       "                Pink Cab       3692\n",
       "Name: Company, dtype: int64"
      ]
     },
     "execution_count": 20,
     "metadata": {},
     "output_type": "execute_result"
    }
   ],
   "source": [
    "groupby_City = final_df.groupby('City')\n",
    "groupby_City['Company'].value_counts()"
   ]
  },
  {
   "cell_type": "markdown",
   "metadata": {},
   "source": [
    "- NASHVILLE TN, PITTSBURGH PA, SACRAMENTO CA and SAN DIEGO CA  are famous for its Pink Cabs"
   ]
  },
  {
   "cell_type": "markdown",
   "metadata": {},
   "source": [
    "### Yearly Analysis"
   ]
  },
  {
   "cell_type": "code",
   "execution_count": 21,
   "metadata": {},
   "outputs": [
    {
     "data": {
      "text/html": [
       "<div>\n",
       "<style scoped>\n",
       "    .dataframe tbody tr th:only-of-type {\n",
       "        vertical-align: middle;\n",
       "    }\n",
       "\n",
       "    .dataframe tbody tr th {\n",
       "        vertical-align: top;\n",
       "    }\n",
       "\n",
       "    .dataframe thead th {\n",
       "        text-align: right;\n",
       "    }\n",
       "</style>\n",
       "<table border=\"1\" class=\"dataframe\">\n",
       "  <thead>\n",
       "    <tr style=\"text-align: right;\">\n",
       "      <th></th>\n",
       "      <th>Profit</th>\n",
       "    </tr>\n",
       "    <tr>\n",
       "      <th>Year</th>\n",
       "      <th></th>\n",
       "    </tr>\n",
       "  </thead>\n",
       "  <tbody>\n",
       "    <tr>\n",
       "      <th>2016</th>\n",
       "      <td>89.2440</td>\n",
       "    </tr>\n",
       "    <tr>\n",
       "      <th>2017</th>\n",
       "      <td>88.7386</td>\n",
       "    </tr>\n",
       "    <tr>\n",
       "      <th>2018</th>\n",
       "      <td>70.3776</td>\n",
       "    </tr>\n",
       "  </tbody>\n",
       "</table>\n",
       "</div>"
      ],
      "text/plain": [
       "       Profit\n",
       "Year         \n",
       "2016  89.2440\n",
       "2017  88.7386\n",
       "2018  70.3776"
      ]
     },
     "execution_count": 21,
     "metadata": {},
     "output_type": "execute_result"
    }
   ],
   "source": [
    "Yearly_group = final_df.groupby(['Year'])\n",
    "(Yearly_group[['Profit']].median())"
   ]
  },
  {
   "cell_type": "code",
   "execution_count": 24,
   "metadata": {},
   "outputs": [
    {
     "data": {
      "text/plain": [
       "Text(0, 0.5, 'Yearly Profit')"
      ]
     },
     "execution_count": 24,
     "metadata": {},
     "output_type": "execute_result"
    },
    {
     "data": {
      "image/png": "[encoded data removed]",
      "text/plain": [
       "<Figure size 1008x576 with 1 Axes>"
      ]
     },
     "metadata": {
      "needs_background": "light"
     },
     "output_type": "display_data"
    }
   ],
   "source": [
    "((Yearly_group[['Profit']].mean())).plot(kind='bar', figsize=(14,8))\n",
    "plt.ylabel(\"Yearly Profit\")"
   ]
  },
  {
   "cell_type": "markdown",
   "metadata": {},
   "source": [
    "### Monthly Analysis"
   ]
  },
  {
   "cell_type": "code",
   "execution_count": 26,
   "metadata": {},
   "outputs": [
    {
     "data": {
      "text/html": [
       "<div>\n",
       "<style scoped>\n",
       "    .dataframe tbody tr th:only-of-type {\n",
       "        vertical-align: middle;\n",
       "    }\n",
       "\n",
       "    .dataframe tbody tr th {\n",
       "        vertical-align: top;\n",
       "    }\n",
       "\n",
       "    .dataframe thead th {\n",
       "        text-align: right;\n",
       "    }\n",
       "</style>\n",
       "<table border=\"1\" class=\"dataframe\">\n",
       "  <thead>\n",
       "    <tr style=\"text-align: right;\">\n",
       "      <th></th>\n",
       "      <th>Profit</th>\n",
       "    </tr>\n",
       "    <tr>\n",
       "      <th>Month</th>\n",
       "      <th></th>\n",
       "    </tr>\n",
       "  </thead>\n",
       "  <tbody>\n",
       "    <tr>\n",
       "      <th>1</th>\n",
       "      <td>93.4036</td>\n",
       "    </tr>\n",
       "    <tr>\n",
       "      <th>2</th>\n",
       "      <td>95.3660</td>\n",
       "    </tr>\n",
       "    <tr>\n",
       "      <th>3</th>\n",
       "      <td>91.9608</td>\n",
       "    </tr>\n",
       "    <tr>\n",
       "      <th>4</th>\n",
       "      <td>83.9600</td>\n",
       "    </tr>\n",
       "    <tr>\n",
       "      <th>5</th>\n",
       "      <td>94.9820</td>\n",
       "    </tr>\n",
       "    <tr>\n",
       "      <th>6</th>\n",
       "      <td>86.3020</td>\n",
       "    </tr>\n",
       "    <tr>\n",
       "      <th>7</th>\n",
       "      <td>68.1632</td>\n",
       "    </tr>\n",
       "    <tr>\n",
       "      <th>8</th>\n",
       "      <td>67.3325</td>\n",
       "    </tr>\n",
       "    <tr>\n",
       "      <th>9</th>\n",
       "      <td>82.1732</td>\n",
       "    </tr>\n",
       "    <tr>\n",
       "      <th>10</th>\n",
       "      <td>80.3840</td>\n",
       "    </tr>\n",
       "    <tr>\n",
       "      <th>11</th>\n",
       "      <td>70.5700</td>\n",
       "    </tr>\n",
       "    <tr>\n",
       "      <th>12</th>\n",
       "      <td>85.7370</td>\n",
       "    </tr>\n",
       "  </tbody>\n",
       "</table>\n",
       "</div>"
      ],
      "text/plain": [
       "        Profit\n",
       "Month         \n",
       "1      93.4036\n",
       "2      95.3660\n",
       "3      91.9608\n",
       "4      83.9600\n",
       "5      94.9820\n",
       "6      86.3020\n",
       "7      68.1632\n",
       "8      67.3325\n",
       "9      82.1732\n",
       "10     80.3840\n",
       "11     70.5700\n",
       "12     85.7370"
      ]
     },
     "execution_count": 26,
     "metadata": {},
     "output_type": "execute_result"
    }
   ],
   "source": [
    "Monthly_group = final_df.groupby(['Month'])\n",
    "(Monthly_group[['Profit']].median())"
   ]
  },
  {
   "cell_type": "code",
   "execution_count": 29,
   "metadata": {},
   "outputs": [
    {
     "data": {
      "text/plain": [
       "Text(0, 0.5, 'Monthly Profit')"
      ]
     },
     "execution_count": 29,
     "metadata": {},
     "output_type": "execute_result"
    },
    {
     "data": {
      "image/png": "[encoded data removed]",
      "text/plain": [
       "<Figure size 1008x576 with 1 Axes>"
      ]
     },
     "metadata": {
      "needs_background": "light"
     },
     "output_type": "display_data"
    }
   ],
   "source": [
    "((Monthly_group[['Profit']].mean())).plot(kind='bar', figsize=(14,8))\n",
    "plt.ylabel(\"Monthly Profit\")"
   ]
  },
  {
   "cell_type": "markdown",
   "metadata": {},
   "source": [
    "### Daily Analysis"
   ]
  },
  {
   "cell_type": "code",
   "execution_count": 28,
   "metadata": {},
   "outputs": [
    {
     "data": {
      "text/html": [
       "<div>\n",
       "<style scoped>\n",
       "    .dataframe tbody tr th:only-of-type {\n",
       "        vertical-align: middle;\n",
       "    }\n",
       "\n",
       "    .dataframe tbody tr th {\n",
       "        vertical-align: top;\n",
       "    }\n",
       "\n",
       "    .dataframe thead th {\n",
       "        text-align: right;\n",
       "    }\n",
       "</style>\n",
       "<table border=\"1\" class=\"dataframe\">\n",
       "  <thead>\n",
       "    <tr style=\"text-align: right;\">\n",
       "      <th></th>\n",
       "      <th>Profit</th>\n",
       "    </tr>\n",
       "    <tr>\n",
       "      <th>Day</th>\n",
       "      <th></th>\n",
       "    </tr>\n",
       "  </thead>\n",
       "  <tbody>\n",
       "    <tr>\n",
       "      <th>1</th>\n",
       "      <td>103.1290</td>\n",
       "    </tr>\n",
       "    <tr>\n",
       "      <th>2</th>\n",
       "      <td>109.0920</td>\n",
       "    </tr>\n",
       "    <tr>\n",
       "      <th>3</th>\n",
       "      <td>98.2800</td>\n",
       "    </tr>\n",
       "    <tr>\n",
       "      <th>4</th>\n",
       "      <td>100.2816</td>\n",
       "    </tr>\n",
       "    <tr>\n",
       "      <th>5</th>\n",
       "      <td>104.7780</td>\n",
       "    </tr>\n",
       "    <tr>\n",
       "      <th>6</th>\n",
       "      <td>90.7014</td>\n",
       "    </tr>\n",
       "    <tr>\n",
       "      <th>7</th>\n",
       "      <td>54.2800</td>\n",
       "    </tr>\n",
       "    <tr>\n",
       "      <th>8</th>\n",
       "      <td>54.1770</td>\n",
       "    </tr>\n",
       "    <tr>\n",
       "      <th>9</th>\n",
       "      <td>67.8320</td>\n",
       "    </tr>\n",
       "    <tr>\n",
       "      <th>10</th>\n",
       "      <td>79.6330</td>\n",
       "    </tr>\n",
       "    <tr>\n",
       "      <th>11</th>\n",
       "      <td>87.0190</td>\n",
       "    </tr>\n",
       "    <tr>\n",
       "      <th>12</th>\n",
       "      <td>77.6508</td>\n",
       "    </tr>\n",
       "    <tr>\n",
       "      <th>13</th>\n",
       "      <td>82.7700</td>\n",
       "    </tr>\n",
       "    <tr>\n",
       "      <th>14</th>\n",
       "      <td>78.2240</td>\n",
       "    </tr>\n",
       "    <tr>\n",
       "      <th>15</th>\n",
       "      <td>80.4584</td>\n",
       "    </tr>\n",
       "    <tr>\n",
       "      <th>16</th>\n",
       "      <td>80.4660</td>\n",
       "    </tr>\n",
       "    <tr>\n",
       "      <th>17</th>\n",
       "      <td>88.1264</td>\n",
       "    </tr>\n",
       "    <tr>\n",
       "      <th>18</th>\n",
       "      <td>77.7880</td>\n",
       "    </tr>\n",
       "    <tr>\n",
       "      <th>19</th>\n",
       "      <td>82.2900</td>\n",
       "    </tr>\n",
       "    <tr>\n",
       "      <th>20</th>\n",
       "      <td>78.2160</td>\n",
       "    </tr>\n",
       "    <tr>\n",
       "      <th>21</th>\n",
       "      <td>77.4368</td>\n",
       "    </tr>\n",
       "    <tr>\n",
       "      <th>22</th>\n",
       "      <td>78.1240</td>\n",
       "    </tr>\n",
       "    <tr>\n",
       "      <th>23</th>\n",
       "      <td>79.3060</td>\n",
       "    </tr>\n",
       "    <tr>\n",
       "      <th>24</th>\n",
       "      <td>87.4100</td>\n",
       "    </tr>\n",
       "    <tr>\n",
       "      <th>25</th>\n",
       "      <td>80.1884</td>\n",
       "    </tr>\n",
       "    <tr>\n",
       "      <th>26</th>\n",
       "      <td>81.7950</td>\n",
       "    </tr>\n",
       "    <tr>\n",
       "      <th>27</th>\n",
       "      <td>81.1944</td>\n",
       "    </tr>\n",
       "    <tr>\n",
       "      <th>28</th>\n",
       "      <td>79.4992</td>\n",
       "    </tr>\n",
       "    <tr>\n",
       "      <th>29</th>\n",
       "      <td>86.0490</td>\n",
       "    </tr>\n",
       "    <tr>\n",
       "      <th>30</th>\n",
       "      <td>81.2488</td>\n",
       "    </tr>\n",
       "    <tr>\n",
       "      <th>31</th>\n",
       "      <td>86.3980</td>\n",
       "    </tr>\n",
       "  </tbody>\n",
       "</table>\n",
       "</div>"
      ],
      "text/plain": [
       "       Profit\n",
       "Day          \n",
       "1    103.1290\n",
       "2    109.0920\n",
       "3     98.2800\n",
       "4    100.2816\n",
       "5    104.7780\n",
       "6     90.7014\n",
       "7     54.2800\n",
       "8     54.1770\n",
       "9     67.8320\n",
       "10    79.6330\n",
       "11    87.0190\n",
       "12    77.6508\n",
       "13    82.7700\n",
       "14    78.2240\n",
       "15    80.4584\n",
       "16    80.4660\n",
       "17    88.1264\n",
       "18    77.7880\n",
       "19    82.2900\n",
       "20    78.2160\n",
       "21    77.4368\n",
       "22    78.1240\n",
       "23    79.3060\n",
       "24    87.4100\n",
       "25    80.1884\n",
       "26    81.7950\n",
       "27    81.1944\n",
       "28    79.4992\n",
       "29    86.0490\n",
       "30    81.2488\n",
       "31    86.3980"
      ]
     },
     "execution_count": 28,
     "metadata": {},
     "output_type": "execute_result"
    }
   ],
   "source": [
    "Daily_group = final_df.groupby(['Day'])\n",
    "(Daily_group[['Profit']].median())"
   ]
  },
  {
   "cell_type": "code",
   "execution_count": 30,
   "metadata": {},
   "outputs": [
    {
     "data": {
      "text/plain": [
       "Text(0, 0.5, 'Daily Profit')"
      ]
     },
     "execution_count": 30,
     "metadata": {},
     "output_type": "execute_result"
    },
    {
     "data": {
      "image/png": "[encoded data removed]",
      "text/plain": [
       "<Figure size 1008x576 with 1 Axes>"
      ]
     },
     "metadata": {
      "needs_background": "light"
     },
     "output_type": "display_data"
    }
   ],
   "source": [
    "((Daily_group[['Profit']].mean())).plot(kind='bar', figsize=(14,8))\n",
    "plt.ylabel(\"Daily Profit\")"
   ]
  },
  {
   "cell_type": "code",
   "execution_count": 31,
   "metadata": {},
   "outputs": [
    {
     "data": {
      "text/plain": [
       "Text(0, 0.5, 'Profit')"
      ]
     },
     "execution_count": 31,
     "metadata": {},
     "output_type": "execute_result"
    },
    {
     "data": {
      "image/png": "[encoded data removed]",
      "text/plain": [
       "<Figure size 1008x576 with 1 Axes>"
      ]
     },
     "metadata": {
      "needs_background": "light"
     },
     "output_type": "display_data"
    }
   ],
   "source": [
    "((groupby_City[['Profit']].mean())).plot(kind='bar', figsize=(14, 8), color = \"green\")\n",
    "plt.ylabel(\"Profit\")"
   ]
  },
  {
   "cell_type": "markdown",
   "metadata": {},
   "source": [
    "- NEW YORK NY, DALLAS TX, SILICON VALLEY and MIAMI FL are the top cities with the highest profit"
   ]
  },
  {
   "cell_type": "code",
   "execution_count": 32,
   "metadata": {},
   "outputs": [
    {
     "data": {
      "image/png": "[encoded data removed]",
      "text/plain": [
       "<Figure size 1008x576 with 1 Axes>"
      ]
     },
     "metadata": {
      "needs_background": "light"
     },
     "output_type": "display_data"
    }
   ],
   "source": [
    "plt.figure(figsize=(14,8))\n",
    "plt.hist(final_df.Age, bins=10, color='lightsteelblue')\n",
    "plt.show()"
   ]
  },
  {
   "cell_type": "markdown",
   "metadata": {},
   "source": [
    "- Most of the users are between 20 to 40 years"
   ]
  },
  {
   "cell_type": "code",
   "execution_count": 33,
   "metadata": {},
   "outputs": [
    {
     "data": {
      "text/plain": [
       "Text(0, 0.5, 'Profit')"
      ]
     },
     "execution_count": 33,
     "metadata": {},
     "output_type": "execute_result"
    },
    {
     "data": {
      "image/png": "[encoded data removed]",
      "text/plain": [
       "<Figure size 1080x504 with 1 Axes>"
      ]
     },
     "metadata": {
      "needs_background": "light"
     },
     "output_type": "display_data"
    }
   ],
   "source": [
    "(final_df.pivot_table(index='Company', columns='Year', \n",
    "                values='Profit', aggfunc='sum')).plot(kind='bar', figsize=(15,7), title='Profit Analysis')\n",
    "plt.ylabel(\"Profit\")"
   ]
  },
  {
   "cell_type": "code",
   "execution_count": 34,
   "metadata": {},
   "outputs": [
    {
     "data": {
      "image/png": "[encoded data removed]",
      "text/plain": [
       "<Figure size 1008x576 with 1 Axes>"
      ]
     },
     "metadata": {
      "needs_background": "light"
     },
     "output_type": "display_data"
    }
   ],
   "source": [
    "(groupby_City['Income (USD/Month)'].agg(['min', 'max'])).plot(kind='bar', figsize=(14,8));"
   ]
  },
  {
   "cell_type": "code",
   "execution_count": 35,
   "metadata": {},
   "outputs": [
    {
     "data": {
      "image/png": "[encoded data removed]",
      "text/plain": [
       "<Figure size 1080x504 with 1 Axes>"
      ]
     },
     "metadata": {
      "needs_background": "light"
     },
     "output_type": "display_data"
    }
   ],
   "source": [
    "plt.figure(figsize=(15,7))\n",
    "sns.stripplot(x=\"Gender\", y=\"Price Charged\", hue=\"Month\", data = final_df, dodge=True)\n",
    "plt.show()"
   ]
  },
  {
   "cell_type": "code",
   "execution_count": 36,
   "metadata": {},
   "outputs": [
    {
     "data": {
      "image/png": "[encoded data removed]",
      "text/plain": [
       "<Figure size 1008x576 with 1 Axes>"
      ]
     },
     "metadata": {
      "needs_background": "light"
     },
     "output_type": "display_data"
    }
   ],
   "source": [
    "plt.figure(figsize=(14,8))\n",
    "g=sns.countplot(x = 'Gender', data = final_df);\n",
    "g.set_title('Male and Female')\n",
    "plt.show()"
   ]
  },
  {
   "cell_type": "code",
   "execution_count": 37,
   "metadata": {},
   "outputs": [
    {
     "data": {
      "text/plain": [
       "Card    215504\n",
       "Cash    143888\n",
       "Name: Payment_Mode, dtype: int64"
      ]
     },
     "execution_count": 37,
     "metadata": {},
     "output_type": "execute_result"
    }
   ],
   "source": [
    "final_df['Payment_Mode'].value_counts()"
   ]
  },
  {
   "cell_type": "code",
   "execution_count": 40,
   "metadata": {},
   "outputs": [
    {
     "data": {
      "image/png": "[encoded data removed]",
      "text/plain": [
       "<Figure size 432x288 with 1 Axes>"
      ]
     },
     "metadata": {
      "needs_background": "light"
     },
     "output_type": "display_data"
    }
   ],
   "source": [
    "plt.hist(final_df.Payment_Mode)\n",
    "plt.ylabel(\"Count\")\n",
    "plt.xlabel(\"Payment Mode\")\n",
    "plt.show()"
   ]
  },
  {
   "cell_type": "markdown",
   "metadata": {},
   "source": [
    "# Hypothesis"
   ]
  },
  {
   "cell_type": "code",
   "execution_count": 41,
   "metadata": {},
   "outputs": [
    {
     "data": {
      "text/html": [
       "<div>\n",
       "<style scoped>\n",
       "    .dataframe tbody tr th:only-of-type {\n",
       "        vertical-align: middle;\n",
       "    }\n",
       "\n",
       "    .dataframe tbody tr th {\n",
       "        vertical-align: top;\n",
       "    }\n",
       "\n",
       "    .dataframe thead th {\n",
       "        text-align: right;\n",
       "    }\n",
       "</style>\n",
       "<table border=\"1\" class=\"dataframe\">\n",
       "  <thead>\n",
       "    <tr style=\"text-align: right;\">\n",
       "      <th></th>\n",
       "      <th>Transaction ID</th>\n",
       "      <th>KM Travelled</th>\n",
       "      <th>Price Charged</th>\n",
       "      <th>Cost of Trip</th>\n",
       "      <th>Customer ID</th>\n",
       "      <th>Age</th>\n",
       "      <th>Income (USD/Month)</th>\n",
       "      <th>Day</th>\n",
       "      <th>Month</th>\n",
       "      <th>Year</th>\n",
       "      <th>Profit</th>\n",
       "    </tr>\n",
       "  </thead>\n",
       "  <tbody>\n",
       "    <tr>\n",
       "      <th>count</th>\n",
       "      <td>3.593920e+05</td>\n",
       "      <td>359392.000000</td>\n",
       "      <td>359392.000000</td>\n",
       "      <td>359392.000000</td>\n",
       "      <td>359392.000000</td>\n",
       "      <td>359392.000000</td>\n",
       "      <td>359392.000000</td>\n",
       "      <td>359392.000000</td>\n",
       "      <td>359392.000000</td>\n",
       "      <td>359392.000000</td>\n",
       "      <td>359392.000000</td>\n",
       "    </tr>\n",
       "    <tr>\n",
       "      <th>mean</th>\n",
       "      <td>1.022076e+07</td>\n",
       "      <td>22.567254</td>\n",
       "      <td>423.443311</td>\n",
       "      <td>286.190113</td>\n",
       "      <td>19191.652115</td>\n",
       "      <td>35.336705</td>\n",
       "      <td>15048.822937</td>\n",
       "      <td>15.972835</td>\n",
       "      <td>7.156047</td>\n",
       "      <td>2017.045199</td>\n",
       "      <td>137.253198</td>\n",
       "    </tr>\n",
       "    <tr>\n",
       "      <th>std</th>\n",
       "      <td>1.268058e+05</td>\n",
       "      <td>12.233526</td>\n",
       "      <td>274.378911</td>\n",
       "      <td>157.993661</td>\n",
       "      <td>21012.412463</td>\n",
       "      <td>12.594234</td>\n",
       "      <td>7969.409482</td>\n",
       "      <td>8.503010</td>\n",
       "      <td>3.413283</td>\n",
       "      <td>0.800239</td>\n",
       "      <td>160.311840</td>\n",
       "    </tr>\n",
       "    <tr>\n",
       "      <th>min</th>\n",
       "      <td>1.000001e+07</td>\n",
       "      <td>1.900000</td>\n",
       "      <td>15.600000</td>\n",
       "      <td>19.000000</td>\n",
       "      <td>1.000000</td>\n",
       "      <td>18.000000</td>\n",
       "      <td>2000.000000</td>\n",
       "      <td>1.000000</td>\n",
       "      <td>1.000000</td>\n",
       "      <td>2016.000000</td>\n",
       "      <td>-220.060000</td>\n",
       "    </tr>\n",
       "    <tr>\n",
       "      <th>25%</th>\n",
       "      <td>1.011081e+07</td>\n",
       "      <td>12.000000</td>\n",
       "      <td>206.437500</td>\n",
       "      <td>151.200000</td>\n",
       "      <td>2705.000000</td>\n",
       "      <td>25.000000</td>\n",
       "      <td>8424.000000</td>\n",
       "      <td>9.000000</td>\n",
       "      <td>4.000000</td>\n",
       "      <td>2016.000000</td>\n",
       "      <td>28.012000</td>\n",
       "    </tr>\n",
       "    <tr>\n",
       "      <th>50%</th>\n",
       "      <td>1.022104e+07</td>\n",
       "      <td>22.440000</td>\n",
       "      <td>386.360000</td>\n",
       "      <td>282.480000</td>\n",
       "      <td>7459.000000</td>\n",
       "      <td>33.000000</td>\n",
       "      <td>14685.000000</td>\n",
       "      <td>16.000000</td>\n",
       "      <td>8.000000</td>\n",
       "      <td>2017.000000</td>\n",
       "      <td>81.962000</td>\n",
       "    </tr>\n",
       "    <tr>\n",
       "      <th>75%</th>\n",
       "      <td>1.033094e+07</td>\n",
       "      <td>32.960000</td>\n",
       "      <td>583.660000</td>\n",
       "      <td>413.683200</td>\n",
       "      <td>36078.000000</td>\n",
       "      <td>42.000000</td>\n",
       "      <td>21035.000000</td>\n",
       "      <td>23.000000</td>\n",
       "      <td>10.000000</td>\n",
       "      <td>2018.000000</td>\n",
       "      <td>190.030000</td>\n",
       "    </tr>\n",
       "    <tr>\n",
       "      <th>max</th>\n",
       "      <td>1.044011e+07</td>\n",
       "      <td>48.000000</td>\n",
       "      <td>2048.030000</td>\n",
       "      <td>691.200000</td>\n",
       "      <td>60000.000000</td>\n",
       "      <td>65.000000</td>\n",
       "      <td>35000.000000</td>\n",
       "      <td>31.000000</td>\n",
       "      <td>12.000000</td>\n",
       "      <td>2018.000000</td>\n",
       "      <td>1463.966000</td>\n",
       "    </tr>\n",
       "  </tbody>\n",
       "</table>\n",
       "</div>"
      ],
      "text/plain": [
       "       Transaction ID   KM Travelled  Price Charged   Cost of Trip  \\\n",
       "count    3.593920e+05  359392.000000  359392.000000  359392.000000   \n",
       "mean     1.022076e+07      22.567254     423.443311     286.190113   \n",
       "std      1.268058e+05      12.233526     274.378911     157.993661   \n",
       "min      1.000001e+07       1.900000      15.600000      19.000000   \n",
       "25%      1.011081e+07      12.000000     206.437500     151.200000   \n",
       "50%      1.022104e+07      22.440000     386.360000     282.480000   \n",
       "75%      1.033094e+07      32.960000     583.660000     413.683200   \n",
       "max      1.044011e+07      48.000000    2048.030000     691.200000   \n",
       "\n",
       "         Customer ID            Age  Income (USD/Month)            Day  \\\n",
       "count  359392.000000  359392.000000       359392.000000  359392.000000   \n",
       "mean    19191.652115      35.336705        15048.822937      15.972835   \n",
       "std     21012.412463      12.594234         7969.409482       8.503010   \n",
       "min         1.000000      18.000000         2000.000000       1.000000   \n",
       "25%      2705.000000      25.000000         8424.000000       9.000000   \n",
       "50%      7459.000000      33.000000        14685.000000      16.000000   \n",
       "75%     36078.000000      42.000000        21035.000000      23.000000   \n",
       "max     60000.000000      65.000000        35000.000000      31.000000   \n",
       "\n",
       "               Month           Year         Profit  \n",
       "count  359392.000000  359392.000000  359392.000000  \n",
       "mean        7.156047    2017.045199     137.253198  \n",
       "std         3.413283       0.800239     160.311840  \n",
       "min         1.000000    2016.000000    -220.060000  \n",
       "25%         4.000000    2016.000000      28.012000  \n",
       "50%         8.000000    2017.000000      81.962000  \n",
       "75%        10.000000    2018.000000     190.030000  \n",
       "max        12.000000    2018.000000    1463.966000  "
      ]
     },
     "execution_count": 41,
     "metadata": {},
     "output_type": "execute_result"
    }
   ],
   "source": [
    "final_df.describe()"
   ]
  },
  {
   "cell_type": "code",
   "execution_count": 42,
   "metadata": {},
   "outputs": [],
   "source": [
    "sample = int((10/100)*len(final_df))"
   ]
  },
  {
   "cell_type": "markdown",
   "metadata": {},
   "source": [
    "# KM Travelled\n",
    "\n",
    "- H0:  KM Travelled  =  22.56\n",
    "- H1:  KM Travelled  !=  22.56"
   ]
  },
  {
   "cell_type": "code",
   "execution_count": 43,
   "metadata": {},
   "outputs": [
    {
     "name": "stdout",
     "output_type": "stream",
     "text": [
      "p-values 0.4941765552043045\n",
      "we are accepting null hypothesis\n"
     ]
    }
   ],
   "source": [
    "KM = np.random.choice(final_df[\"KM Travelled\"], sample)\n",
    "tset, pval = ttest_1samp(KM, 22.56)\n",
    "print(\"p-values\",pval)\n",
    "if pval < 0.05:  \n",
    "    print(\" we are rejecting null hypothesis\")\n",
    "else:\n",
    "    print(\"we are accepting null hypothesis\")"
   ]
  },
  {
   "cell_type": "markdown",
   "metadata": {},
   "source": [
    "# Price Charged"
   ]
  },
  {
   "cell_type": "code",
   "execution_count": 44,
   "metadata": {},
   "outputs": [
    {
     "name": "stdout",
     "output_type": "stream",
     "text": [
      "p-values 0.9117946114385627\n",
      "we are accepting null hypothesis\n"
     ]
    }
   ],
   "source": [
    "Price = np.random.choice(final_df[\"Price Charged\"],sample)\n",
    "tset, pval = ttest_1samp(Price, 423.44)\n",
    "print(\"p-values\",pval)\n",
    "if pval < 0.05:   \n",
    "    print(\" we are rejecting null hypothesis\")\n",
    "else:\n",
    "    print(\"we are accepting null hypothesis\")"
   ]
  },
  {
   "cell_type": "markdown",
   "metadata": {},
   "source": [
    "# Age"
   ]
  },
  {
   "cell_type": "code",
   "execution_count": 45,
   "metadata": {},
   "outputs": [
    {
     "name": "stdout",
     "output_type": "stream",
     "text": [
      "p-values 3.5925808301741895e-09\n",
      " we are rejecting null hypothesis\n"
     ]
    }
   ],
   "source": [
    "age = np.random.choice(final_df[\"Age\"],sample)\n",
    "tset, pval = ttest_1samp(age, 35)\n",
    "print(\"p-values\",pval)\n",
    "if pval < 0.05:\n",
    "    print(\" we are rejecting null hypothesis\")\n",
    "else:\n",
    "    print(\"we are accepting null hypothesis\")"
   ]
  },
  {
   "cell_type": "markdown",
   "metadata": {},
   "source": [
    "# Income (USD/Month)"
   ]
  },
  {
   "cell_type": "code",
   "execution_count": 46,
   "metadata": {},
   "outputs": [
    {
     "name": "stdout",
     "output_type": "stream",
     "text": [
      "p-values 0.7255808612362521\n",
      "we are accepting null hypothesis\n"
     ]
    }
   ],
   "source": [
    "Income = np.random.choice(final_df[\"Income (USD/Month)\"],sample)\n",
    "tset, pval = ttest_1samp(Income, 15048.8)\n",
    "print(\"p-values\",pval)\n",
    "if pval < 0.05:    \n",
    "    print(\" we are rejecting null hypothesis\")\n",
    "else:\n",
    "    print(\"we are accepting null hypothesis\")"
   ]
  },
  {
   "cell_type": "markdown",
   "metadata": {},
   "source": [
    "# Profit"
   ]
  },
  {
   "cell_type": "code",
   "execution_count": 47,
   "metadata": {},
   "outputs": [
    {
     "name": "stdout",
     "output_type": "stream",
     "text": [
      "p-values 0.2912017708287039\n",
      "we are accepting null hypothesis\n"
     ]
    }
   ],
   "source": [
    "profit = np.random.choice(final_df[\"Profit\"],sample)\n",
    "tset, pval = ttest_1samp(profit, 137.25)\n",
    "print(\"p-values\",pval)\n",
    "if pval < 0.05:    \n",
    "    print(\" we are rejecting null hypothesis\")\n",
    "else:\n",
    "    print(\"we are accepting null hypothesis\")"
   ]
  },
  {
   "cell_type": "markdown",
   "metadata": {},
   "source": [
    "# Conclusion"
   ]
  },
  {
   "cell_type": "markdown",
   "metadata": {},
   "source": [
    "- No duplicate data was found\n",
    "\n",
    "- New York City have the highest number of cabs\n",
    "\n",
    "- People prefer Yellow Cabs over Pink Cabs in every city except NASHVILLE TN, PITTSBURGH PA, SACRAMENTO CA and SAN DIEGO CA are famous for its Pink Cabs\n",
    "\n",
    "- NEW YORK NY, DALLAS TX, SILICON VALLEY and MIAMI FL are the top cities with the highest profit\n",
    "\n",
    "- Most of the users are between 20 to 40 years\n",
    "\n",
    "- Card  is the most Payment Mode"
   ]
  },
  {
   "cell_type": "markdown",
   "metadata": {},
   "source": [
    "# Reference\n",
    "\n",
    "\n",
    "https://towardsdatascience.com/hypothesis-testing-in-machine-learning-using-python-a0dc89e169ce"
   ]
  },
  {
   "cell_type": "code",
   "execution_count": null,
   "metadata": {},
   "outputs": [],
   "source": []
  }
 ],
 "metadata": {
  "kernelspec": {
   "display_name": "Python 3",
   "language": "python",
   "name": "python3"
  },
  "language_info": {
   "codemirror_mode": {
    "name": "ipython",
    "version": 3
   },
   "file_extension": ".py",
   "mimetype": "text/x-python",
   "name": "python",
   "nbconvert_exporter": "python",
   "pygments_lexer": "ipython3",
   "version": "3.8.3"
  }
 },
 "nbformat": 4,
 "nbformat_minor": 4
}
